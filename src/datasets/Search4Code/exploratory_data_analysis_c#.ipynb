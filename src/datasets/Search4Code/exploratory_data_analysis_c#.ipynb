{
 "cells": [
  {
   "cell_type": "code",
   "execution_count": 2,
   "metadata": {},
   "outputs": [],
   "source": [
    "from io import StringIO\n",
    "import pandas as pd\n",
    "import requests"
   ]
  },
  {
   "cell_type": "code",
   "execution_count": 3,
   "metadata": {},
   "outputs": [
    {
     "data": {
      "text/html": [
       "<div>\n",
       "<style scoped>\n",
       "    .dataframe tbody tr th:only-of-type {\n",
       "        vertical-align: middle;\n",
       "    }\n",
       "\n",
       "    .dataframe tbody tr th {\n",
       "        vertical-align: top;\n",
       "    }\n",
       "\n",
       "    .dataframe thead th {\n",
       "        text-align: right;\n",
       "    }\n",
       "</style>\n",
       "<table border=\"1\" class=\"dataframe\">\n",
       "  <thead>\n",
       "    <tr style=\"text-align: right;\">\n",
       "      <th></th>\n",
       "      <th>Id</th>\n",
       "      <th>QueryString</th>\n",
       "      <th>TopClickedUrls</th>\n",
       "      <th>PopularityRank</th>\n",
       "      <th>PredictedLabel</th>\n",
       "    </tr>\n",
       "  </thead>\n",
       "  <tbody>\n",
       "    <tr>\n",
       "      <th>0</th>\n",
       "      <td>df5cf101-85df-4fda-8450-21b5ef82c1c1</td>\n",
       "      <td>cs1513 c# } expected</td>\n",
       "      <td>https://stackoverflow.com/questions/5394409/co...</td>\n",
       "      <td>1</td>\n",
       "      <td>False</td>\n",
       "    </tr>\n",
       "    <tr>\n",
       "      <th>1</th>\n",
       "      <td>ad3de02b-dabe-4b3d-bba0-1541ad214935</td>\n",
       "      <td>cs2001 c# source file could not be found.</td>\n",
       "      <td>https://stackoverflow.com/questions/19406924/e...</td>\n",
       "      <td>2</td>\n",
       "      <td>False</td>\n",
       "    </tr>\n",
       "    <tr>\n",
       "      <th>2</th>\n",
       "      <td>80049825-dd92-4fd0-a073-d9b12247aa83</td>\n",
       "      <td>cs1001 c# identifier expected</td>\n",
       "      <td>https://stackoverflow.com/questions/4006164/er...</td>\n",
       "      <td>3</td>\n",
       "      <td>False</td>\n",
       "    </tr>\n",
       "    <tr>\n",
       "      <th>3</th>\n",
       "      <td>dfb425e4-737e-416d-a362-4323235b5c1c</td>\n",
       "      <td>ide0055 c# fix formatting</td>\n",
       "      <td>https://marketplace.visualstudio.com/items?ite...</td>\n",
       "      <td>4</td>\n",
       "      <td>False</td>\n",
       "    </tr>\n",
       "    <tr>\n",
       "      <th>4</th>\n",
       "      <td>5aeb856b-d0b0-4260-a8a5-ff947ab80431</td>\n",
       "      <td>cs7036 c# there is no argument given that corr...</td>\n",
       "      <td>https://stackoverflow.com/questions/54555468/c...</td>\n",
       "      <td>5</td>\n",
       "      <td>False</td>\n",
       "    </tr>\n",
       "  </tbody>\n",
       "</table>\n",
       "</div>"
      ],
      "text/plain": [
       "                                     Id  \\\n",
       "0  df5cf101-85df-4fda-8450-21b5ef82c1c1   \n",
       "1  ad3de02b-dabe-4b3d-bba0-1541ad214935   \n",
       "2  80049825-dd92-4fd0-a073-d9b12247aa83   \n",
       "3  dfb425e4-737e-416d-a362-4323235b5c1c   \n",
       "4  5aeb856b-d0b0-4260-a8a5-ff947ab80431   \n",
       "\n",
       "                                         QueryString  \\\n",
       "0                               cs1513 c# } expected   \n",
       "1          cs2001 c# source file could not be found.   \n",
       "2                      cs1001 c# identifier expected   \n",
       "3                          ide0055 c# fix formatting   \n",
       "4  cs7036 c# there is no argument given that corr...   \n",
       "\n",
       "                                      TopClickedUrls  PopularityRank  \\\n",
       "0  https://stackoverflow.com/questions/5394409/co...               1   \n",
       "1  https://stackoverflow.com/questions/19406924/e...               2   \n",
       "2  https://stackoverflow.com/questions/4006164/er...               3   \n",
       "3  https://marketplace.visualstudio.com/items?ite...               4   \n",
       "4  https://stackoverflow.com/questions/54555468/c...               5   \n",
       "\n",
       "   PredictedLabel  \n",
       "0           False  \n",
       "1           False  \n",
       "2           False  \n",
       "3           False  \n",
       "4           False  "
      ]
     },
     "execution_count": 3,
     "metadata": {},
     "output_type": "execute_result"
    }
   ],
   "source": [
    "url = 'https://raw.githubusercontent.com/microsoft/Search4Code/main/data/c%23.csv'\n",
    "s=requests.get(url).text\n",
    "\n",
    "df=pd.read_csv(StringIO(s))\n",
    "df.head(5)"
   ]
  },
  {
   "cell_type": "code",
   "execution_count": 4,
   "metadata": {},
   "outputs": [
    {
     "name": "stdout",
     "output_type": "stream",
     "text": [
      "<class 'pandas.core.frame.DataFrame'>\n",
      "RangeIndex: 4974 entries, 0 to 4973\n",
      "Data columns (total 5 columns):\n",
      " #   Column          Non-Null Count  Dtype \n",
      "---  ------          --------------  ----- \n",
      " 0   Id              4974 non-null   object\n",
      " 1   QueryString     4974 non-null   object\n",
      " 2   TopClickedUrls  4974 non-null   object\n",
      " 3   PopularityRank  4974 non-null   int64 \n",
      " 4   PredictedLabel  4974 non-null   bool  \n",
      "dtypes: bool(1), int64(1), object(3)\n",
      "memory usage: 160.4+ KB\n"
     ]
    },
    {
     "data": {
      "text/plain": [
       "None"
      ]
     },
     "metadata": {},
     "output_type": "display_data"
    }
   ],
   "source": [
    "display(df.info())"
   ]
  },
  {
   "cell_type": "markdown",
   "metadata": {},
   "source": [
    "## Dataset report\n",
    "Upon initial analysis of the dataset, it became evident that it does not provide the necessary information required for our task of code search from natural language to code. The absence of code snippets or related code information restricts our ability to train or evaluate models for this specific task."
   ]
  }
 ],
 "metadata": {
  "kernelspec": {
   "display_name": "base",
   "language": "python",
   "name": "python3"
  },
  "language_info": {
   "codemirror_mode": {
    "name": "ipython",
    "version": 3
   },
   "file_extension": ".py",
   "mimetype": "text/x-python",
   "name": "python",
   "nbconvert_exporter": "python",
   "pygments_lexer": "ipython3",
   "version": "3.10.9"
  }
 },
 "nbformat": 4,
 "nbformat_minor": 2
}
