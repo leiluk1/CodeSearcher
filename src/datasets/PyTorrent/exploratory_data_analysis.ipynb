{
 "cells": [
  {
   "cell_type": "code",
   "execution_count": 1,
   "id": "88f533fe-bc75-43fb-b25a-0c29902281a4",
   "metadata": {},
   "outputs": [],
   "source": [
    "import pandas as pd\n",
    "import os\n",
    "import gzip\n",
    "import json\n",
    "import numpy as np\n",
    "from pathlib import Path\n",
    "from tqdm.auto import tqdm\n",
    "from ast import literal_eval\n",
    "import random\n",
    "import matplotlib.pyplot as plt"
   ]
  },
  {
   "cell_type": "code",
   "execution_count": 2,
   "id": "0169de99-8654-449e-9962-a1f4d148e8a0",
   "metadata": {},
   "outputs": [],
   "source": [
    "DATA_FOLDER = Path('../../../data/raw/PyTorrent')"
   ]
  },
  {
   "cell_type": "code",
   "execution_count": 3,
   "id": "14e9da64-f4ca-4800-be41-744259af407c",
   "metadata": {},
   "outputs": [
    {
     "data": {
      "application/vnd.jupyter.widget-view+json": {
       "model_id": "9046e8bd27bf436086f58c20d9d0de3c",
       "version_major": 2,
       "version_minor": 0
      },
      "text/plain": [
       "Reading train files:   0%|          | 0/5 [00:00<?, ?it/s]"
      ]
     },
     "metadata": {},
     "output_type": "display_data"
    },
    {
     "data": {
      "application/vnd.jupyter.widget-view+json": {
       "model_id": "54d7554e0eb446798fcb5c16d4a9be2f",
       "version_major": 2,
       "version_minor": 0
      },
      "text/plain": [
       "Reading test files:   0%|          | 0/5 [00:00<?, ?it/s]"
      ]
     },
     "metadata": {},
     "output_type": "display_data"
    },
    {
     "data": {
      "application/vnd.jupyter.widget-view+json": {
       "model_id": "56b2965c6d2f4702a8b63aebe9286df5",
       "version_major": 2,
       "version_minor": 0
      },
      "text/plain": [
       "Reading valid files:   0%|          | 0/5 [00:00<?, ?it/s]"
      ]
     },
     "metadata": {},
     "output_type": "display_data"
    }
   ],
   "source": [
    "def read_gzip_jsonl(mode: str, max_chunks=5):\n",
    "    assert mode in ['train', 'test', 'valid']\n",
    "    data = []\n",
    "    archives = os.listdir(DATA_FOLDER / mode)\n",
    "    if max_chunks > 0:\n",
    "        archives = archives[:max_chunks]\n",
    "    for archive_path in tqdm(archives, desc=f'Reading {mode} files'):\n",
    "        frame = pd.read_json(DATA_FOLDER / mode / archive_path, lines=True)\n",
    "        data.append(frame)\n",
    "        \n",
    "    return pd.concat(data, ignore_index=True)\n",
    "\n",
    "train_data, val_data, test_data = [read_gzip_jsonl(mode) for mode in ['train', 'test', 'valid']]"
   ]
  },
  {
   "cell_type": "code",
   "execution_count": 4,
   "id": "6aa7b78a-f843-424b-a22f-3a208eff70b0",
   "metadata": {},
   "outputs": [
    {
     "data": {
      "text/plain": [
       "(Index(['repo', 'path', 'language', 'sha', 'url', 'partition', 'code',\n",
       "        'original_string', 'code_tokens', 'func_name', 'docstring',\n",
       "        'docstring_tokens', 'summary', 'code_with_docstring', 'code_tokens_py'],\n",
       "       dtype='object'),\n",
       " True)"
      ]
     },
     "execution_count": 4,
     "metadata": {},
     "output_type": "execute_result"
    }
   ],
   "source": [
    "train_data.columns, all(column in test_data.columns for column in train_data.columns)"
   ]
  },
  {
   "cell_type": "code",
   "execution_count": 5,
   "id": "2db8ef35-1862-482e-a332-9f89bfc63b02",
   "metadata": {},
   "outputs": [
    {
     "data": {
      "text/html": [
       "<div>\n",
       "<style scoped>\n",
       "    .dataframe tbody tr th:only-of-type {\n",
       "        vertical-align: middle;\n",
       "    }\n",
       "\n",
       "    .dataframe tbody tr th {\n",
       "        vertical-align: top;\n",
       "    }\n",
       "\n",
       "    .dataframe thead th {\n",
       "        text-align: right;\n",
       "    }\n",
       "</style>\n",
       "<table border=\"1\" class=\"dataframe\">\n",
       "  <thead>\n",
       "    <tr style=\"text-align: right;\">\n",
       "      <th></th>\n",
       "      <th>repo</th>\n",
       "      <th>path</th>\n",
       "      <th>language</th>\n",
       "      <th>sha</th>\n",
       "      <th>url</th>\n",
       "      <th>partition</th>\n",
       "      <th>code</th>\n",
       "      <th>original_string</th>\n",
       "      <th>code_tokens</th>\n",
       "      <th>func_name</th>\n",
       "      <th>docstring</th>\n",
       "      <th>docstring_tokens</th>\n",
       "      <th>summary</th>\n",
       "      <th>code_with_docstring</th>\n",
       "      <th>code_tokens_py</th>\n",
       "    </tr>\n",
       "  </thead>\n",
       "  <tbody>\n",
       "    <tr>\n",
       "      <th>0</th>\n",
       "      <td>least_asymmetry-0.40</td>\n",
       "      <td>least_asymmetry-0.40//least_asymmetry/asym.pyf...</td>\n",
       "      <td>python</td>\n",
       "      <td>2b6cb84c474fb936f6d23ee570095fa49bd3573a</td>\n",
       "      <td>least_asymmetry-0.40//least_asymmetry/asym.pyf...</td>\n",
       "      <td>train</td>\n",
       "      <td>def gaussian(height, center_x, center_y, width...</td>\n",
       "      <td>def gaussian(height, center_x, center_y, width...</td>\n",
       "      <td>[def, gaussian(height,, center_x,, center_y,, ...</td>\n",
       "      <td>least_asymmetry-0.40/file:/least_asymmetry/asy...</td>\n",
       "      <td>Returns a gaussian function with the given par...</td>\n",
       "      <td>[Returns, a, gaussian, function, with, the, gi...</td>\n",
       "      <td>Returns a gaussian function with the given par...</td>\n",
       "      <td>def gaussian(height, center_x, center_y, width...</td>\n",
       "      <td>[]</td>\n",
       "    </tr>\n",
       "    <tr>\n",
       "      <th>1</th>\n",
       "      <td>openhltspirent</td>\n",
       "      <td>openhltspirent//sessions/config/porttraffic/fr...</td>\n",
       "      <td>python</td>\n",
       "      <td>3db424bd2473f4cfc12ff6aaad98acd40aefcb5c</td>\n",
       "      <td>openhltspirent//sessions/config/porttraffic/fr...</td>\n",
       "      <td>train</td>\n",
       "      <td>@property\\ndef Step(self):\\n    The step value...</td>\n",
       "      <td>@property\\ndef Step(self):\\n    \"\"\"The step va...</td>\n",
       "      <td>[@property\\ndef, Step(self):\\n, , , , The, ste...</td>\n",
       "      <td>openhltspirent/class:Increment/Step</td>\n",
       "      <td>The step value of the increment pattern\\n\\nGet...</td>\n",
       "      <td>[The, step, value, of, the, increment, pattern...</td>\n",
       "      <td>The step value of the increment pattern</td>\n",
       "      <td>@property\\ndef Step(self):\\n    \"\"\"The step va...</td>\n",
       "      <td>[]</td>\n",
       "    </tr>\n",
       "    <tr>\n",
       "      <th>2</th>\n",
       "      <td>LaueTools</td>\n",
       "      <td>LaueTools//lauecore.pyfile:/lauecore.py:functi...</td>\n",
       "      <td>python</td>\n",
       "      <td>19e400ad1e1173ab8ee47857350f73d3bcec3a04</td>\n",
       "      <td>LaueTools//lauecore.pyfile:/lauecore.py:functi...</td>\n",
       "      <td>train</td>\n",
       "      <td>def SimulateLaue_merge(grains, emin, emax, det...</td>\n",
       "      <td>def SimulateLaue_merge(grains, emin, emax, det...</td>\n",
       "      <td>[def, SimulateLaue_merge(grains,, emin,, emax,...</td>\n",
       "      <td>LaueTools/file:/lauecore.py:function:SimulateL...</td>\n",
       "      <td>Simulates Laue pattern full data from a list o...</td>\n",
       "      <td>[Simulates, Laue, pattern, full, data, from, a...</td>\n",
       "      <td>Simulates Laue pattern full data from a list o...</td>\n",
       "      <td>def SimulateLaue_merge(grains, emin, emax, det...</td>\n",
       "      <td>[]</td>\n",
       "    </tr>\n",
       "    <tr>\n",
       "      <th>3</th>\n",
       "      <td>wisdoms</td>\n",
       "      <td>wisdoms//utils.pyfile:/utils.py:function:cls_e...</td>\n",
       "      <td>python</td>\n",
       "      <td>efa107ba2f72d16af1aeeab42a8ca06613dc3367</td>\n",
       "      <td>wisdoms//utils.pyfile:/utils.py:function:cls_e...</td>\n",
       "      <td>train</td>\n",
       "      <td>def cls_exception(xpt):\\n    \\n    类装饰器，捕获类生成实...</td>\n",
       "      <td>def cls_exception(xpt):\\n    \"\"\"\\n    类装饰器，捕获类...</td>\n",
       "      <td>[def, cls_exception(xpt):\\n, , , , \\n, , , , 类...</td>\n",
       "      <td>wisdoms/file:/utils.py:function:cls_exception/...</td>\n",
       "      <td>类装饰器，捕获类生成实例方法下面所有异常。\\n注意如果是静态方法，用类名调用方法名会报错，必...</td>\n",
       "      <td>[类装饰器，捕获类生成实例方法下面所有异常, 。, 注意如果是静态方法，用类名调用方法名会报...</td>\n",
       "      <td>类装饰器，捕获类生成实例方法下面所有异常。</td>\n",
       "      <td>def cls_exception(xpt):\\n    \"\"\"\\n    类装饰器，捕获类...</td>\n",
       "      <td>[]</td>\n",
       "    </tr>\n",
       "    <tr>\n",
       "      <th>4</th>\n",
       "      <td>ecl</td>\n",
       "      <td>ecl//grid/ecl_grid_generator.pyclass:EclGridGe...</td>\n",
       "      <td>python</td>\n",
       "      <td>93b1ab16fa60ab075ebb3caa9af5ec709af8bbb8</td>\n",
       "      <td>ecl//grid/ecl_grid_generator.pyclass:EclGridGe...</td>\n",
       "      <td>train</td>\n",
       "      <td>@classmethod\\ndef extract_subgrid_data(cls, di...</td>\n",
       "      <td>@classmethod\\ndef extract_subgrid_data(cls, di...</td>\n",
       "      <td>[@classmethod\\ndef, extract_subgrid_data(cls,,...</td>\n",
       "      <td>ecl/class:EclGridGenerator/extract_subgrid_data</td>\n",
       "      <td>Extracts subgrid data from COORD, ZCORN and po...</td>\n",
       "      <td>[Extracts, subgrid, data, from, COORD, ,, ZCOR...</td>\n",
       "      <td>Extracts subgrid data from COORD, ZCORN and po...</td>\n",
       "      <td>@classmethod\\ndef extract_subgrid_data(cls, di...</td>\n",
       "      <td>[]</td>\n",
       "    </tr>\n",
       "  </tbody>\n",
       "</table>\n",
       "</div>"
      ],
      "text/plain": [
       "                   repo                                               path  \\\n",
       "0  least_asymmetry-0.40  least_asymmetry-0.40//least_asymmetry/asym.pyf...   \n",
       "1        openhltspirent  openhltspirent//sessions/config/porttraffic/fr...   \n",
       "2             LaueTools  LaueTools//lauecore.pyfile:/lauecore.py:functi...   \n",
       "3               wisdoms  wisdoms//utils.pyfile:/utils.py:function:cls_e...   \n",
       "4                   ecl  ecl//grid/ecl_grid_generator.pyclass:EclGridGe...   \n",
       "\n",
       "  language                                       sha  \\\n",
       "0   python  2b6cb84c474fb936f6d23ee570095fa49bd3573a   \n",
       "1   python  3db424bd2473f4cfc12ff6aaad98acd40aefcb5c   \n",
       "2   python  19e400ad1e1173ab8ee47857350f73d3bcec3a04   \n",
       "3   python  efa107ba2f72d16af1aeeab42a8ca06613dc3367   \n",
       "4   python  93b1ab16fa60ab075ebb3caa9af5ec709af8bbb8   \n",
       "\n",
       "                                                 url partition  \\\n",
       "0  least_asymmetry-0.40//least_asymmetry/asym.pyf...     train   \n",
       "1  openhltspirent//sessions/config/porttraffic/fr...     train   \n",
       "2  LaueTools//lauecore.pyfile:/lauecore.py:functi...     train   \n",
       "3  wisdoms//utils.pyfile:/utils.py:function:cls_e...     train   \n",
       "4  ecl//grid/ecl_grid_generator.pyclass:EclGridGe...     train   \n",
       "\n",
       "                                                code  \\\n",
       "0  def gaussian(height, center_x, center_y, width...   \n",
       "1  @property\\ndef Step(self):\\n    The step value...   \n",
       "2  def SimulateLaue_merge(grains, emin, emax, det...   \n",
       "3  def cls_exception(xpt):\\n    \\n    类装饰器，捕获类生成实...   \n",
       "4  @classmethod\\ndef extract_subgrid_data(cls, di...   \n",
       "\n",
       "                                     original_string  \\\n",
       "0  def gaussian(height, center_x, center_y, width...   \n",
       "1  @property\\ndef Step(self):\\n    \"\"\"The step va...   \n",
       "2  def SimulateLaue_merge(grains, emin, emax, det...   \n",
       "3  def cls_exception(xpt):\\n    \"\"\"\\n    类装饰器，捕获类...   \n",
       "4  @classmethod\\ndef extract_subgrid_data(cls, di...   \n",
       "\n",
       "                                         code_tokens  \\\n",
       "0  [def, gaussian(height,, center_x,, center_y,, ...   \n",
       "1  [@property\\ndef, Step(self):\\n, , , , The, ste...   \n",
       "2  [def, SimulateLaue_merge(grains,, emin,, emax,...   \n",
       "3  [def, cls_exception(xpt):\\n, , , , \\n, , , , 类...   \n",
       "4  [@classmethod\\ndef, extract_subgrid_data(cls,,...   \n",
       "\n",
       "                                           func_name  \\\n",
       "0  least_asymmetry-0.40/file:/least_asymmetry/asy...   \n",
       "1                openhltspirent/class:Increment/Step   \n",
       "2  LaueTools/file:/lauecore.py:function:SimulateL...   \n",
       "3  wisdoms/file:/utils.py:function:cls_exception/...   \n",
       "4    ecl/class:EclGridGenerator/extract_subgrid_data   \n",
       "\n",
       "                                           docstring  \\\n",
       "0  Returns a gaussian function with the given par...   \n",
       "1  The step value of the increment pattern\\n\\nGet...   \n",
       "2  Simulates Laue pattern full data from a list o...   \n",
       "3  类装饰器，捕获类生成实例方法下面所有异常。\\n注意如果是静态方法，用类名调用方法名会报错，必...   \n",
       "4  Extracts subgrid data from COORD, ZCORN and po...   \n",
       "\n",
       "                                    docstring_tokens  \\\n",
       "0  [Returns, a, gaussian, function, with, the, gi...   \n",
       "1  [The, step, value, of, the, increment, pattern...   \n",
       "2  [Simulates, Laue, pattern, full, data, from, a...   \n",
       "3  [类装饰器，捕获类生成实例方法下面所有异常, 。, 注意如果是静态方法，用类名调用方法名会报...   \n",
       "4  [Extracts, subgrid, data, from, COORD, ,, ZCOR...   \n",
       "\n",
       "                                             summary  \\\n",
       "0  Returns a gaussian function with the given par...   \n",
       "1            The step value of the increment pattern   \n",
       "2  Simulates Laue pattern full data from a list o...   \n",
       "3                              类装饰器，捕获类生成实例方法下面所有异常。   \n",
       "4  Extracts subgrid data from COORD, ZCORN and po...   \n",
       "\n",
       "                                 code_with_docstring code_tokens_py  \n",
       "0  def gaussian(height, center_x, center_y, width...             []  \n",
       "1  @property\\ndef Step(self):\\n    \"\"\"The step va...             []  \n",
       "2  def SimulateLaue_merge(grains, emin, emax, det...             []  \n",
       "3  def cls_exception(xpt):\\n    \"\"\"\\n    类装饰器，捕获类...             []  \n",
       "4  @classmethod\\ndef extract_subgrid_data(cls, di...             []  "
      ]
     },
     "execution_count": 5,
     "metadata": {},
     "output_type": "execute_result"
    }
   ],
   "source": [
    "train_data.head()"
   ]
  },
  {
   "cell_type": "code",
   "execution_count": 6,
   "id": "a754e45c-6a5f-4015-a6cf-466f1795ac43",
   "metadata": {},
   "outputs": [
    {
     "data": {
      "text/plain": [
       "'def gaussian(height, center_x, center_y, width_x, width_y, offset):\\n    \"\"\"\\n    width_x = float(width_x)\\n    width_y = float(width_y)\\n    return lambda x, y: height * np.exp(-(((center_x - x) / width_x) ** 2 +\\n        ((center_y - y) / width_y) ** 2) / 2) + offset\\n'"
      ]
     },
     "execution_count": 6,
     "metadata": {},
     "output_type": "execute_result"
    }
   ],
   "source": [
    "train_data.iloc[0].code"
   ]
  },
  {
   "cell_type": "code",
   "execution_count": 7,
   "id": "fe0046e6-38de-439b-9ef9-47af3be0c68c",
   "metadata": {},
   "outputs": [],
   "source": [
    "train_df = train_data[['docstring_tokens', 'code_tokens', 'summary']]\n",
    "val_df = val_data[['docstring_tokens', 'code_tokens', 'summary']]\n",
    "test_df = test_data[['docstring_tokens', 'code_tokens', 'summary']]"
   ]
  },
  {
   "cell_type": "code",
   "execution_count": 8,
   "id": "cb215e6c-4dae-420a-b46d-c5cd24213a9b",
   "metadata": {},
   "outputs": [
    {
     "data": {
      "text/html": [
       "<div>\n",
       "<style scoped>\n",
       "    .dataframe tbody tr th:only-of-type {\n",
       "        vertical-align: middle;\n",
       "    }\n",
       "\n",
       "    .dataframe tbody tr th {\n",
       "        vertical-align: top;\n",
       "    }\n",
       "\n",
       "    .dataframe thead th {\n",
       "        text-align: right;\n",
       "    }\n",
       "</style>\n",
       "<table border=\"1\" class=\"dataframe\">\n",
       "  <thead>\n",
       "    <tr style=\"text-align: right;\">\n",
       "      <th></th>\n",
       "      <th>docstring_tokens</th>\n",
       "      <th>code_tokens</th>\n",
       "      <th>summary</th>\n",
       "    </tr>\n",
       "  </thead>\n",
       "  <tbody>\n",
       "    <tr>\n",
       "      <th>0</th>\n",
       "      <td>[Returns, a, gaussian, function, with, the, gi...</td>\n",
       "      <td>[def, gaussian(height,, center_x,, center_y,, ...</td>\n",
       "      <td>Returns a gaussian function with the given par...</td>\n",
       "    </tr>\n",
       "    <tr>\n",
       "      <th>1</th>\n",
       "      <td>[The, step, value, of, the, increment, pattern...</td>\n",
       "      <td>[@property\\ndef, Step(self):\\n, , , , The, ste...</td>\n",
       "      <td>The step value of the increment pattern</td>\n",
       "    </tr>\n",
       "    <tr>\n",
       "      <th>2</th>\n",
       "      <td>[Simulates, Laue, pattern, full, data, from, a...</td>\n",
       "      <td>[def, SimulateLaue_merge(grains,, emin,, emax,...</td>\n",
       "      <td>Simulates Laue pattern full data from a list o...</td>\n",
       "    </tr>\n",
       "    <tr>\n",
       "      <th>3</th>\n",
       "      <td>[类装饰器，捕获类生成实例方法下面所有异常, 。, 注意如果是静态方法，用类名调用方法名会报...</td>\n",
       "      <td>[def, cls_exception(xpt):\\n, , , , \\n, , , , 类...</td>\n",
       "      <td>类装饰器，捕获类生成实例方法下面所有异常。</td>\n",
       "    </tr>\n",
       "    <tr>\n",
       "      <th>4</th>\n",
       "      <td>[Extracts, subgrid, data, from, COORD, ,, ZCOR...</td>\n",
       "      <td>[@classmethod\\ndef, extract_subgrid_data(cls,,...</td>\n",
       "      <td>Extracts subgrid data from COORD, ZCORN and po...</td>\n",
       "    </tr>\n",
       "    <tr>\n",
       "      <th>...</th>\n",
       "      <td>...</td>\n",
       "      <td>...</td>\n",
       "      <td>...</td>\n",
       "    </tr>\n",
       "    <tr>\n",
       "      <th>507689</th>\n",
       "      <td>[Get, the, list, of, first, names, ., :, retur...</td>\n",
       "      <td>[def, _get_names(self):\\n, , , , Get, the, lis...</td>\n",
       "      <td>Get the list of first names.</td>\n",
       "    </tr>\n",
       "    <tr>\n",
       "      <th>507690</th>\n",
       "      <td>[Method, called, by, the, proxy, to, send, a, ...</td>\n",
       "      <td>[def, __call(self,, peer,, subject,, content):...</td>\n",
       "      <td>Method called by the proxy to send a message o...</td>\n",
       "    </tr>\n",
       "    <tr>\n",
       "      <th>507691</th>\n",
       "      <td>[Remove, dotfile(s, ), from, the, repository, .]</td>\n",
       "      <td>[def, remove(self,, files):\\n, , , , \"\"\"\\n, , ...</td>\n",
       "      <td>Remove dotfile(s) from the repository.</td>\n",
       "    </tr>\n",
       "    <tr>\n",
       "      <th>507692</th>\n",
       "      <td>[Reads, the, full, image, data, for, the, spec...</td>\n",
       "      <td>[def, read_image(self,, ifd):\\n, , , , \"\"\"\\n, ...</td>\n",
       "      <td>Reads the full image data for the specified IF...</td>\n",
       "    </tr>\n",
       "    <tr>\n",
       "      <th>507693</th>\n",
       "      <td>[Translate, a, sqloose, statement, to, SQL, .,...</td>\n",
       "      <td>[def, _statement_to_sql(statement):\\n, , , , T...</td>\n",
       "      <td>Translate a sqloose statement to SQL.</td>\n",
       "    </tr>\n",
       "  </tbody>\n",
       "</table>\n",
       "<p>507694 rows × 3 columns</p>\n",
       "</div>"
      ],
      "text/plain": [
       "                                         docstring_tokens  \\\n",
       "0       [Returns, a, gaussian, function, with, the, gi...   \n",
       "1       [The, step, value, of, the, increment, pattern...   \n",
       "2       [Simulates, Laue, pattern, full, data, from, a...   \n",
       "3       [类装饰器，捕获类生成实例方法下面所有异常, 。, 注意如果是静态方法，用类名调用方法名会报...   \n",
       "4       [Extracts, subgrid, data, from, COORD, ,, ZCOR...   \n",
       "...                                                   ...   \n",
       "507689  [Get, the, list, of, first, names, ., :, retur...   \n",
       "507690  [Method, called, by, the, proxy, to, send, a, ...   \n",
       "507691   [Remove, dotfile(s, ), from, the, repository, .]   \n",
       "507692  [Reads, the, full, image, data, for, the, spec...   \n",
       "507693  [Translate, a, sqloose, statement, to, SQL, .,...   \n",
       "\n",
       "                                              code_tokens  \\\n",
       "0       [def, gaussian(height,, center_x,, center_y,, ...   \n",
       "1       [@property\\ndef, Step(self):\\n, , , , The, ste...   \n",
       "2       [def, SimulateLaue_merge(grains,, emin,, emax,...   \n",
       "3       [def, cls_exception(xpt):\\n, , , , \\n, , , , 类...   \n",
       "4       [@classmethod\\ndef, extract_subgrid_data(cls,,...   \n",
       "...                                                   ...   \n",
       "507689  [def, _get_names(self):\\n, , , , Get, the, lis...   \n",
       "507690  [def, __call(self,, peer,, subject,, content):...   \n",
       "507691  [def, remove(self,, files):\\n, , , , \"\"\"\\n, , ...   \n",
       "507692  [def, read_image(self,, ifd):\\n, , , , \"\"\"\\n, ...   \n",
       "507693  [def, _statement_to_sql(statement):\\n, , , , T...   \n",
       "\n",
       "                                                  summary  \n",
       "0       Returns a gaussian function with the given par...  \n",
       "1                 The step value of the increment pattern  \n",
       "2       Simulates Laue pattern full data from a list o...  \n",
       "3                                   类装饰器，捕获类生成实例方法下面所有异常。  \n",
       "4       Extracts subgrid data from COORD, ZCORN and po...  \n",
       "...                                                   ...  \n",
       "507689                       Get the list of first names.  \n",
       "507690  Method called by the proxy to send a message o...  \n",
       "507691             Remove dotfile(s) from the repository.  \n",
       "507692  Reads the full image data for the specified IF...  \n",
       "507693              Translate a sqloose statement to SQL.  \n",
       "\n",
       "[507694 rows x 3 columns]"
      ]
     },
     "execution_count": 8,
     "metadata": {},
     "output_type": "execute_result"
    }
   ],
   "source": [
    "train_df"
   ]
  },
  {
   "cell_type": "markdown",
   "id": "1c318332-6819-4fae-b52f-c8a59df91c14",
   "metadata": {},
   "source": [
    "<strong>observation:</strong> non-English dostrings, dataset requires extra cleaning before fine-tuning; `isalpha` should do as a filter"
   ]
  },
  {
   "cell_type": "code",
   "execution_count": 9,
   "id": "194e7ec4-b94e-4008-b6f6-ea2dc90a8dcc",
   "metadata": {},
   "outputs": [
    {
     "name": "stdout",
     "output_type": "stream",
     "text": [
      "104183 Generate random ObjectID in MongoDB format\n",
      "['def', 'gen_random_object_id():\\n', '', '', '', '\\n', '', '', '', '\\n', '', '', '', '\"\"\"\\n', '', '', '', 'timestamp', '=', \"'{0:x}'.format(int(time.time()))\\n\", '', '', '', 'rest', '=', \"binascii.b2a_hex(os.urandom(8)).decode('ascii')\\n\", '', '', '', 'return', 'timestamp', '+', 'rest\\n']\n",
      "def gen_random_object_id():\n",
      "    \n",
      "    \n",
      "    \"\"\"\n",
      "    timestamp = '{0:x}'.format(int(time.time()))\n",
      "    rest = binascii.b2a_hex(os.urandom(8)).decode('ascii')\n",
      "    return timestamp + rest\n",
      "\n",
      "---------------------------------------------\n",
      "223088 Whether the given function object is already registered.\n",
      "['def', 'is_registered(self,', 'listener):\\n', '', '', '', '\"\"\"\\n', '', '', '', 'return', 'listener', 'in', 'self._listeners\\n']\n",
      "def is_registered(self, listener):\n",
      "    \"\"\"\n",
      "    return listener in self._listeners\n",
      "\n",
      "---------------------------------------------\n",
      "14568 merges the branch information for content-divergent changesets and sets\n",
      "['def', 'mergebranches(repo,', 'divergent,', 'other,', 'base):\\n', '', '', '', 'merges', 'the', 'branch', 'information', 'for', 'content-divergent', 'changesets', 'and', 'sets\\n', '', '', '', 'the', 'dirstate', 'branch', 'accordingly\\n', '', '', '', 'If', 'unable', 'to', 'merge,', 'prompts', 'user', 'to', 'select', 'a', 'branch\\n\\n', '', '', '', 'If', 'the', 'branch', 'name', 'is', 'different', 'from', 'the', 'branch', 'of', 'divergent', 'changeset,', 'it\\n', '', '', '', 'sets', 'the', 'current', 'branch', 'using', 'repo.dirstate.setbranch()\\n', '', '', '', '\"\"\"\\n', '', '', '', 'divbranch', '=', 'divergent.branch()\\n', '', '', '', 'basebranch', '=', 'base.branch()\\n', '', '', '', 'othbranch', '=', 'other.branch()\\n', '', '', '', 'if', 'divbranch', '!=', 'othbranch:\\n', '', '', '', '', '', '', '', 'if', 'basebranch', '==', 'othbranch', 'and', 'basebranch', '!=', 'divbranch:\\n', '', '', '', '', '', '', '', '', '', '', '', 'pass\\n', '', '', '', '', '', '', '', 'elif', 'basebranch', '==', 'divbranch', 'and', 'basebranch', '!=', 'othbranch:\\n', '', '', '', '', '', '', '', '', '', '', '', 'repo.dirstate.setbranch(othbranch)\\n', '', '', '', '', '', '', '', 'else:\\n', '', '', '', '', '', '', '', '', '', '', '', 'index', '=', 'repo.ui.promptchoice(_(\\n', '', '', '', '', '', '', '', '', '', '', '', '', '', '', '', \"b'content\", 'divergent', 'changesets', 'on', 'different', 'branches.\\\\nchoose', 'branch', 'for', 'the', 'resolution', 'changeset.', '(a)', '%s', 'or', '(b)', '%s', 'or', '(c)', '%s?', '$$', '&a', '$$', '&b', '$$', \"&c'\\n\", '', '', '', '', '', '', '', '', '', '', '', '', '', '', '', ')', '%', '(basebranch,', 'divbranch,', 'othbranch),', '0)\\n', '', '', '', '', '', '', '', '', '', '', '', 'if', 'index', '==', '0:\\n', '', '', '', '', '', '', '', '', '', '', '', '', '', '', '', 'repo.dirstate.setbranch(basebranch)\\n', '', '', '', '', '', '', '', '', '', '', '', 'elif', 'index', '==', '1:\\n', '', '', '', '', '', '', '', '', '', '', '', '', '', '', '', 'pass\\n', '', '', '', '', '', '', '', '', '', '', '', 'elif', 'index', '==', '2:\\n', '', '', '', '', '', '', '', '', '', '', '', '', '', '', '', 'repo.dirstate.setbranch(othbranch)\\n']\n",
      "def mergebranches(repo, divergent, other, base):\n",
      "    merges the branch information for content-divergent changesets and sets\n",
      "    the dirstate branch accordingly\n",
      "    If unable to merge, prompts user to select a branch\n",
      "\n",
      "    If the branch name is different from the branch of divergent changeset, it\n",
      "    sets the current branch using repo.dirstate.setbranch()\n",
      "    \"\"\"\n",
      "    divbranch = divergent.branch()\n",
      "    basebranch = base.branch()\n",
      "    othbranch = other.branch()\n",
      "    if divbranch != othbranch:\n",
      "        if basebranch == othbranch and basebranch != divbranch:\n",
      "            pass\n",
      "        elif basebranch == divbranch and basebranch != othbranch:\n",
      "            repo.dirstate.setbranch(othbranch)\n",
      "        else:\n",
      "            index = repo.ui.promptchoice(_(\n",
      "                b'content divergent changesets on different branches.\\nchoose branch for the resolution changeset. (a) %s or (b) %s or (c) %s? $$ &a $$ &b $$ &c'\n",
      "                ) % (basebranch, divbranch, othbranch), 0)\n",
      "            if index == 0:\n",
      "                repo.dirstate.setbranch(basebranch)\n",
      "            elif index == 1:\n",
      "                pass\n",
      "            elif index == 2:\n",
      "                repo.dirstate.setbranch(othbranch)\n",
      "\n",
      "---------------------------------------------\n",
      "211099 Cancel all goals associated with this action client.\n",
      "['def', 'cancel(self):\\n', '', '', '', '\"\"\"\\n', '', '', '', 'self.cancel_topic.publish(Message())\\n']\n",
      "def cancel(self):\n",
      "    \"\"\"\n",
      "    self.cancel_topic.publish(Message())\n",
      "\n",
      "---------------------------------------------\n",
      "392466 Enable a `feature`.  Features that are enabled will be computed\n",
      "['def', 'enable_feature(self,', 'feature=None,', '**kwargs):\\n', '', '', '', '\\n', '', '', '', '', '', '', '', 'Enable', 'a', '`feature`.', '', 'Features', 'that', 'are', 'enabled', 'will', 'be', 'computed\\n', '', '', '', '', '', '', '', 'during', '<phoebe.frontend.bundle.Bundle.run_compute>', 'and', 'included', 'in', 'the', 'cost', 'function\\n', '', '', '', '', '', '', '', 'during', 'run_fitting', '(once', 'supported).\\n\\n', '', '', '', '', '', '', '', 'If', '`compute`', 'is', 'not', 'provided,', 'the', 'dataset', 'will', 'be', 'enabled', 'across', 'all\\n', '', '', '', '', '', '', '', 'compute', 'options.\\n\\n', '', '', '', '', '', '', '', 'Note', 'that', 'not', 'all', '`compute`', 'backends', 'support', 'all', 'types', 'of', 'features.\\n', '', '', '', '', '', '', '', 'Unsupported', 'features', 'do', 'not', 'have', \"'enabled'\", 'parameters,', 'and', 'therefore\\n', '', '', '', '', '', '', '', 'cannot', 'be', 'enabled', 'or', 'disabled.\\n\\n', '', '', '', '', '', '', '', 'See', 'also:\\n', '', '', '', '', '', '', '', '*', '<phoebe.frontend.bundle.Bundle.disable_feature>\\n\\n', '', '', '', '', '', '', '', 'Arguments\\n', '', '', '', '', '', '', '', '-----------\\n', '', '', '', '', '', '', '', '*', '`feature`', '(string,', 'optional):', 'name', 'of', 'the', 'feature\\n', '', '', '', '', '', '', '', '*', '`**kwargs`:', '', 'any', 'other', 'tags', 'to', 'do', 'the', 'filter\\n', '', '', '', '', '', '', '', '', '', '', '', '(except', 'feature', 'or', 'context)\\n\\n', '', '', '', '', '', '', '', 'Returns\\n', '', '', '', '', '', '', '', '---------\\n', '', '', '', '', '', '', '', '*', 'a', '<phoebe.parameters.ParameterSet>', 'object', 'of', 'the', 'enabled', 'feature\\n', '', '', '', '', '', '', '', '\"\"\"\\n', '', '', '', \"kwargs['context']\", '=', \"'compute'\\n\", '', '', '', \"kwargs['feature']\", '=', 'feature\\n', '', '', '', \"kwargs['qualifier']\", '=', \"'enabled'\\n\", '', '', '', 'self.set_value_all(value=True,', '**kwargs)\\n', '', '', '', \"self._add_history(redo_func='enable_feature',\", \"redo_kwargs={'feature':\\n\", '', '', '', '', '', '', '', 'feature},', \"undo_func='disable_feature',\", \"undo_kwargs={'feature':\", 'feature}\\n', '', '', '', '', '', '', '', ')\\n', '', '', '', 'return', 'self.get_feature(feature=feature)\\n']\n",
      "def enable_feature(self, feature=None, **kwargs):\n",
      "    \n",
      "        Enable a `feature`.  Features that are enabled will be computed\n",
      "        during <phoebe.frontend.bundle.Bundle.run_compute> and included in the cost function\n",
      "        during run_fitting (once supported).\n",
      "\n",
      "        If `compute` is not provided, the dataset will be enabled across all\n",
      "        compute options.\n",
      "\n",
      "        Note that not all `compute` backends support all types of features.\n",
      "        Unsupported features do not have 'enabled' parameters, and therefore\n",
      "        cannot be enabled or disabled.\n",
      "\n",
      "        See also:\n",
      "        * <phoebe.frontend.bundle.Bundle.disable_feature>\n",
      "\n",
      "        Arguments\n",
      "        -----------\n",
      "        * `feature` (string, optional): name of the feature\n",
      "        * `**kwargs`:  any other tags to do the filter\n",
      "            (except feature or context)\n",
      "\n",
      "        Returns\n",
      "        ---------\n",
      "        * a <phoebe.parameters.ParameterSet> object of the enabled feature\n",
      "        \"\"\"\n",
      "    kwargs['context'] = 'compute'\n",
      "    kwargs['feature'] = feature\n",
      "    kwargs['qualifier'] = 'enabled'\n",
      "    self.set_value_all(value=True, **kwargs)\n",
      "    self._add_history(redo_func='enable_feature', redo_kwargs={'feature':\n",
      "        feature}, undo_func='disable_feature', undo_kwargs={'feature': feature}\n",
      "        )\n",
      "    return self.get_feature(feature=feature)\n",
      "\n",
      "---------------------------------------------\n"
     ]
    }
   ],
   "source": [
    "for i in np.random.randint(0, len(train_data), 5):\n",
    "    row = train_data.iloc[i]\n",
    "    print(i, row[\"summary\"])\n",
    "    print(row[\"code_tokens\"])\n",
    "    print(' '.join(row[\"code_tokens\"]))\n",
    "    print('-' * 45)"
   ]
  },
  {
   "cell_type": "code",
   "execution_count": 10,
   "id": "0665cf31-9bbd-42dc-b621-b35971b359c8",
   "metadata": {},
   "outputs": [
    {
     "name": "stdout",
     "output_type": "stream",
     "text": [
      "Train code number of tokens mean and std: 174.0025±2638.7708 with 6 <= code_len <= 1848758\n"
     ]
    },
    {
     "data": {
      "image/png": "[encoded data removed]",
      "text/plain": [
       "<Figure size 1000x500 with 3 Axes>"
      ]
     },
     "metadata": {},
     "output_type": "display_data"
    }
   ],
   "source": [
    "plt.figure(figsize=(10, 5))\n",
    "plt.subplot(131)\n",
    "lengths = np.array([len(code) for code in train_df[\"code_tokens\"]])\n",
    "plt.hist(lengths)\n",
    "plt.title('Train code length')\n",
    "print(f'Train code number of tokens mean and std: {round(lengths.mean(), 4)}±{round(lengths.std(), 4)} with {lengths.min()} <= code_len <= {lengths.max()}')\n",
    "plt.subplot(132)\n",
    "lengths = [len(code) for code in val_df[\"code_tokens\"]]\n",
    "plt.hist(lengths)\n",
    "plt.title('Validation code length')\n",
    "plt.subplot(133)\n",
    "lengths = [len(code) for code in test_df[\"code_tokens\"]]\n",
    "plt.title('Test code length')\n",
    "plt.hist(lengths);"
   ]
  },
  {
   "cell_type": "code",
   "execution_count": 11,
   "id": "853141df-d89b-462f-a4ea-7cf1097699cd",
   "metadata": {},
   "outputs": [
    {
     "name": "stdout",
     "output_type": "stream",
     "text": [
      "Train code number of tokens mean and std: 174.0025±2638.7708 with 6 <= code_len <= 1848758\n"
     ]
    },
    {
     "data": {
      "image/png": "[encoded data removed]",
      "text/plain": [
       "<Figure size 1000x500 with 3 Axes>"
      ]
     },
     "metadata": {},
     "output_type": "display_data"
    }
   ],
   "source": [
    "plt.figure(figsize=(10, 5))\n",
    "plt.subplot(131)\n",
    "lengths = np.array([len(code) for code in train_df[\"code_tokens\"]])\n",
    "plt.hist(lengths, range=(0, 1000))\n",
    "plt.title('Train code length')\n",
    "print(f'Train code number of tokens mean and std: {round(lengths.mean(), 4)}±{round(lengths.std(), 4)} with {lengths.min()} <= code_len <= {lengths.max()}')\n",
    "plt.subplot(132)\n",
    "lengths = [len(code) for code in val_df[\"code_tokens\"]]\n",
    "plt.hist(lengths, range=(0, 1000))\n",
    "plt.title('Validation code length')\n",
    "plt.subplot(133)\n",
    "lengths = [len(code) for code in test_df[\"code_tokens\"]]\n",
    "plt.title('Test code length')\n",
    "plt.hist(lengths, range=(0, 1000));"
   ]
  },
  {
   "cell_type": "code",
   "execution_count": 12,
   "id": "9fae32b9-ecc7-45bc-900a-29a920a01d4d",
   "metadata": {},
   "outputs": [
    {
     "name": "stdout",
     "output_type": "stream",
     "text": [
      "Train code number of tokens mean and std: 42.8747±85.5732 with 1 <= code_len <= 16601\n"
     ]
    },
    {
     "data": {
      "image/png": "[encoded data removed]",
      "text/plain": [
       "<Figure size 1000x500 with 3 Axes>"
      ]
     },
     "metadata": {},
     "output_type": "display_data"
    }
   ],
   "source": [
    "plt.figure(figsize=(10, 5))\n",
    "plt.subplot(131)\n",
    "lengths = np.array([len(code) for code in train_df[\"docstring_tokens\"]])\n",
    "plt.hist(lengths, range=(0, 1000))\n",
    "plt.title('Train docstring length')\n",
    "print(f'Train code number of tokens mean and std: {round(lengths.mean(), 4)}±{round(lengths.std(), 4)} with {lengths.min()} <= code_len <= {lengths.max()}')\n",
    "plt.subplot(132)\n",
    "lengths = [len(code) for code in val_df[\"docstring_tokens\"]]\n",
    "plt.hist(lengths, range=(0, 1000))\n",
    "plt.title('Validation docstring length')\n",
    "plt.subplot(133)\n",
    "lengths = [len(code) for code in test_df[\"docstring_tokens\"]]\n",
    "plt.title('Test docstring length')\n",
    "plt.hist(lengths, range=(0, 1000));"
   ]
  },
  {
   "cell_type": "code",
   "execution_count": 13,
   "id": "202153db-3a04-4f19-81bb-f262b5ac145f",
   "metadata": {},
   "outputs": [
    {
     "data": {
      "image/png": "[encoded data removed]",
      "text/plain": [
       "<Figure size 640x480 with 1 Axes>"
      ]
     },
     "metadata": {},
     "output_type": "display_data"
    }
   ],
   "source": [
    "doc_lengths = np.array([len(code) for code in train_df[\"docstring_tokens\"]])\n",
    "code_lengths = np.array([len(code) for code in train_df[\"code_tokens\"]])\n",
    "plt.scatter(doc_lengths, code_lengths)\n",
    "plt.xlabel('Docstring length') \n",
    "plt.ylabel('Source code length');"
   ]
  },
  {
   "cell_type": "markdown",
   "id": "600733da-35e6-4f82-8479-aa5965db1044",
   "metadata": {},
   "source": [
    "# Dataset report\n",
    "\n",
    "Contains Python package libraries source code (gathered from \n",
    "\n",
    "## Raw data state\n",
    "\n",
    "The overall format follows CodeSearchNet structure\n",
    "\n",
    "There are non-English queries and tokens in the code: such pairs of <Nl, PL> should be filtered out from the data when preprocessing (`isalpha`)\n",
    "\n",
    "Sometimes comments in the data are similar to the request, so information is duplicated. It is however to be tested whether model will overfit to searching for comments instead of extracting code features. \n",
    "\n",
    "There are few lines in the dataset with very long code sequence (up to 1848758), and ones with very long docstring (up to 16601), so there are 3 options available:\n",
    "1. Drop these lines (safest option)\n",
    "2. Chunk these code sections into smaller ones by some semantical criteria\n",
    "3. Just use example packing to compensate for the length difference \n",
    "\n",
    "## Intersection with CodeXGLUE (and CodeSearchNet)\n",
    "\n",
    "The dataset contains explicit links to repositories, so duplicates\n",
    "\n",
    "The authors [1] claim the PyPI and Anaconda environment packages to be better documented in comparison to open-source projects, so this dataset should fit for fine-tuning. However, it is necessary to remove duplicates when constructing united Python dataset as many packages are likely to posted on Github.\n",
    "\n",
    "\n",
    "## Sources\n",
    "\n",
    "[1] https://github.com/fla-sil/PyTorrent"
   ]
  },
  {
   "cell_type": "code",
   "execution_count": null,
   "id": "9bdfe894-7d00-46b1-9f5c-c26428c27b6d",
   "metadata": {},
   "outputs": [],
   "source": []
  }
 ],
 "metadata": {
  "kernelspec": {
   "display_name": "Python 3 (ipykernel)",
   "language": "python",
   "name": "python3"
  },
  "language_info": {
   "codemirror_mode": {
    "name": "ipython",
    "version": 3
   },
   "file_extension": ".py",
   "mimetype": "text/x-python",
   "name": "python",
   "nbconvert_exporter": "python",
   "pygments_lexer": "ipython3",
   "version": "3.9.0"
  }
 },
 "nbformat": 4,
 "nbformat_minor": 5
}
